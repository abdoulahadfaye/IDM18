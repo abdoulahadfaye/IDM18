{
 "cells": [
  {
   "cell_type": "code",
   "execution_count": null,
   "metadata": {},
   "outputs": [],
   "source": [
    "<!doctype html>\n",
    "<html lang=\"en\">\n",
    "<head>\n",
    "\t<meta charset=\"utf-8\">\n",
    "\t<title>Your name - home page</title>\n",
    "</head>\n",
    "<body>\n",
    "\t<header>\n",
    "    <h1>Simple Image Gallery</h1>\n",
    "    </header>\n",
    "    <main>\n",
    "        <ul id=\"images\">\n",
    "<li></li>\n",
    "</ul>\n",
    "<img id=\"placeholder\" src=\"images\\coral1.jpg\" alt=\"pla\" />\n",
    "<p id=\"description\">Placeholder image</p>\n",
    "    </main>  \n",
    "    <footer>\n",
    "    &copy; Your name\n",
    "    </footer>\n",
    "</body>\n",
    "</html>\n"
   ]
  }
 ],
 "metadata": {
  "language_info": {
   "name": "python"
  },
  "orig_nbformat": 4
 },
 "nbformat": 4,
 "nbformat_minor": 2
}
